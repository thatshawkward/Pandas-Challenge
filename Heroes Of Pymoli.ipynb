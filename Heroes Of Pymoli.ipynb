{
 "cells": [
  {
   "cell_type": "code",
   "execution_count": 1,
   "metadata": {},
   "outputs": [],
   "source": [
    "import os\n",
    "import pandas as pd\n",
    "import numpy as np"
   ]
  },
  {
   "cell_type": "code",
   "execution_count": 2,
   "metadata": {},
   "outputs": [],
   "source": [
    "HOP_csv_path = \"HeroesOfPymoli.csv\""
   ]
  },
  {
   "cell_type": "code",
   "execution_count": 3,
   "metadata": {
    "scrolled": false
   },
   "outputs": [
    {
     "data": {
      "text/html": [
       "<div>\n",
       "<style scoped>\n",
       "    .dataframe tbody tr th:only-of-type {\n",
       "        vertical-align: middle;\n",
       "    }\n",
       "\n",
       "    .dataframe tbody tr th {\n",
       "        vertical-align: top;\n",
       "    }\n",
       "\n",
       "    .dataframe thead th {\n",
       "        text-align: right;\n",
       "    }\n",
       "</style>\n",
       "<table border=\"1\" class=\"dataframe\">\n",
       "  <thead>\n",
       "    <tr style=\"text-align: right;\">\n",
       "      <th></th>\n",
       "      <th>Purchase ID</th>\n",
       "      <th>SN</th>\n",
       "      <th>Age</th>\n",
       "      <th>Gender</th>\n",
       "      <th>Item ID</th>\n",
       "      <th>Item Name</th>\n",
       "      <th>Price</th>\n",
       "    </tr>\n",
       "  </thead>\n",
       "  <tbody>\n",
       "    <tr>\n",
       "      <th>0</th>\n",
       "      <td>0</td>\n",
       "      <td>Lisim78</td>\n",
       "      <td>20</td>\n",
       "      <td>Male</td>\n",
       "      <td>108</td>\n",
       "      <td>Extraction, Quickblade Of Trembling Hands</td>\n",
       "      <td>3.53</td>\n",
       "    </tr>\n",
       "    <tr>\n",
       "      <th>1</th>\n",
       "      <td>1</td>\n",
       "      <td>Lisovynya38</td>\n",
       "      <td>40</td>\n",
       "      <td>Male</td>\n",
       "      <td>143</td>\n",
       "      <td>Frenzied Scimitar</td>\n",
       "      <td>1.56</td>\n",
       "    </tr>\n",
       "    <tr>\n",
       "      <th>2</th>\n",
       "      <td>2</td>\n",
       "      <td>Ithergue48</td>\n",
       "      <td>24</td>\n",
       "      <td>Male</td>\n",
       "      <td>92</td>\n",
       "      <td>Final Critic</td>\n",
       "      <td>4.88</td>\n",
       "    </tr>\n",
       "    <tr>\n",
       "      <th>3</th>\n",
       "      <td>3</td>\n",
       "      <td>Chamassasya86</td>\n",
       "      <td>24</td>\n",
       "      <td>Male</td>\n",
       "      <td>100</td>\n",
       "      <td>Blindscythe</td>\n",
       "      <td>3.27</td>\n",
       "    </tr>\n",
       "    <tr>\n",
       "      <th>4</th>\n",
       "      <td>4</td>\n",
       "      <td>Iskosia90</td>\n",
       "      <td>23</td>\n",
       "      <td>Male</td>\n",
       "      <td>131</td>\n",
       "      <td>Fury</td>\n",
       "      <td>1.44</td>\n",
       "    </tr>\n",
       "  </tbody>\n",
       "</table>\n",
       "</div>"
      ],
      "text/plain": [
       "   Purchase ID             SN  Age Gender  Item ID  \\\n",
       "0            0        Lisim78   20   Male      108   \n",
       "1            1    Lisovynya38   40   Male      143   \n",
       "2            2     Ithergue48   24   Male       92   \n",
       "3            3  Chamassasya86   24   Male      100   \n",
       "4            4      Iskosia90   23   Male      131   \n",
       "\n",
       "                                   Item Name  Price  \n",
       "0  Extraction, Quickblade Of Trembling Hands   3.53  \n",
       "1                          Frenzied Scimitar   1.56  \n",
       "2                               Final Critic   4.88  \n",
       "3                                Blindscythe   3.27  \n",
       "4                                       Fury   1.44  "
      ]
     },
     "execution_count": 3,
     "metadata": {},
     "output_type": "execute_result"
    }
   ],
   "source": [
    "purchase_data_df = pd.read_csv(HOP_csv_path)\n",
    "purchase_data_df.head()"
   ]
  },
  {
   "cell_type": "code",
   "execution_count": 4,
   "metadata": {},
   "outputs": [],
   "source": [
    "total_players = len(purchase_data_df[\"SN\"].value_counts())"
   ]
  },
  {
   "cell_type": "code",
   "execution_count": 5,
   "metadata": {},
   "outputs": [
    {
     "data": {
      "text/html": [
       "<div>\n",
       "<style scoped>\n",
       "    .dataframe tbody tr th:only-of-type {\n",
       "        vertical-align: middle;\n",
       "    }\n",
       "\n",
       "    .dataframe tbody tr th {\n",
       "        vertical-align: top;\n",
       "    }\n",
       "\n",
       "    .dataframe thead th {\n",
       "        text-align: right;\n",
       "    }\n",
       "</style>\n",
       "<table border=\"1\" class=\"dataframe\">\n",
       "  <thead>\n",
       "    <tr style=\"text-align: right;\">\n",
       "      <th></th>\n",
       "      <th>Total Players</th>\n",
       "    </tr>\n",
       "  </thead>\n",
       "  <tbody>\n",
       "    <tr>\n",
       "      <th>0</th>\n",
       "      <td>576</td>\n",
       "    </tr>\n",
       "  </tbody>\n",
       "</table>\n",
       "</div>"
      ],
      "text/plain": [
       "   Total Players\n",
       "0            576"
      ]
     },
     "execution_count": 5,
     "metadata": {},
     "output_type": "execute_result"
    }
   ],
   "source": [
    "player_count = pd.DataFrame({\"Total Players\":[total_players]})\n",
    "player_count"
   ]
  },
  {
   "cell_type": "code",
   "execution_count": 6,
   "metadata": {},
   "outputs": [],
   "source": [
    "unique_items = purchase_data_df['Item ID'].nunique()\n"
   ]
  },
  {
   "cell_type": "code",
   "execution_count": 7,
   "metadata": {},
   "outputs": [],
   "source": [
    "average_price = purchase_data_df['Price'].mean()"
   ]
  },
  {
   "cell_type": "code",
   "execution_count": 8,
   "metadata": {},
   "outputs": [],
   "source": [
    "number_of_purchases = purchase_data_df['Purchase ID'].count()"
   ]
  },
  {
   "cell_type": "code",
   "execution_count": 9,
   "metadata": {},
   "outputs": [],
   "source": [
    "total_revenue = purchase_data_df['Price'].sum()"
   ]
  },
  {
   "cell_type": "code",
   "execution_count": 13,
   "metadata": {},
   "outputs": [
    {
     "data": {
      "text/html": [
       "<style  type=\"text/css\" >\n",
       "</style><table id=\"T_ced6caf0_191f_11ea_b7cf_10bf481b7a17\" ><thead>    <tr>        <th class=\"blank level0\" ></th>        <th class=\"col_heading level0 col0\" >Number of Unique Items</th>        <th class=\"col_heading level0 col1\" >Average Price</th>        <th class=\"col_heading level0 col2\" >Number of Purchases</th>        <th class=\"col_heading level0 col3\" >Total Revenue</th>    </tr></thead><tbody>\n",
       "                <tr>\n",
       "                        <th id=\"T_ced6caf0_191f_11ea_b7cf_10bf481b7a17level0_row0\" class=\"row_heading level0 row0\" >0</th>\n",
       "                        <td id=\"T_ced6caf0_191f_11ea_b7cf_10bf481b7a17row0_col0\" class=\"data row0 col0\" >183</td>\n",
       "                        <td id=\"T_ced6caf0_191f_11ea_b7cf_10bf481b7a17row0_col1\" class=\"data row0 col1\" >$3.05</td>\n",
       "                        <td id=\"T_ced6caf0_191f_11ea_b7cf_10bf481b7a17row0_col2\" class=\"data row0 col2\" >780</td>\n",
       "                        <td id=\"T_ced6caf0_191f_11ea_b7cf_10bf481b7a17row0_col3\" class=\"data row0 col3\" >$2,379.77</td>\n",
       "            </tr>\n",
       "    </tbody></table>"
      ],
      "text/plain": [
       "<pandas.io.formats.style.Styler at 0x197db990780>"
      ]
     },
     "execution_count": 13,
     "metadata": {},
     "output_type": "execute_result"
    }
   ],
   "source": [
    "purchasing_analysis_df = pd.DataFrame({'Number of Unique Items': [unique_items],\n",
    "                                      \"Average Price\":[average_price],\n",
    "                                      \"Number of Purchases\":[number_of_purchases],\n",
    "                                      \"Total Revenue\": [total_revenue]})\n",
    "\n",
    "purchasing_analysis_df\n",
    "\n",
    "purchasing_analysis_df.style.format({\"Average Price\":\"${:,.2f}\",\n",
    "                                    \"Total Revenue\":\"${:,.2f}\"})\n"
   ]
  },
  {
   "cell_type": "code",
   "execution_count": 78,
   "metadata": {},
   "outputs": [],
   "source": [
    "gender_group = purchase_data_df.groupby(\"Gender\")"
   ]
  },
  {
   "cell_type": "code",
   "execution_count": 80,
   "metadata": {},
   "outputs": [],
   "source": [
    "total_gender = gender_group.nunique()[\"SN\"]"
   ]
  },
  {
   "cell_type": "code",
   "execution_count": 16,
   "metadata": {},
   "outputs": [],
   "source": [
    "player_percentage = total_gender/total_players * 100"
   ]
  },
  {
   "cell_type": "code",
   "execution_count": 20,
   "metadata": {},
   "outputs": [],
   "source": [
    "gender_demographics = pd.DataFrame({\"Total Count\": total_gender,\n",
    "                                    \"Percentage of Players\": player_percentage,\n",
    "                                   })"
   ]
  },
  {
   "cell_type": "code",
   "execution_count": 21,
   "metadata": {},
   "outputs": [],
   "source": [
    "gender_demographics.index.name = None"
   ]
  },
  {
   "cell_type": "code",
   "execution_count": 22,
   "metadata": {},
   "outputs": [
    {
     "data": {
      "text/html": [
       "<style  type=\"text/css\" >\n",
       "</style><table id=\"T_3d170402_1927_11ea_8a71_10bf481b7a17\" ><thead>    <tr>        <th class=\"blank level0\" ></th>        <th class=\"col_heading level0 col0\" >Total Count</th>        <th class=\"col_heading level0 col1\" >Percentage of Players</th>    </tr></thead><tbody>\n",
       "                <tr>\n",
       "                        <th id=\"T_3d170402_1927_11ea_8a71_10bf481b7a17level0_row0\" class=\"row_heading level0 row0\" >Male</th>\n",
       "                        <td id=\"T_3d170402_1927_11ea_8a71_10bf481b7a17row0_col0\" class=\"data row0 col0\" >484</td>\n",
       "                        <td id=\"T_3d170402_1927_11ea_8a71_10bf481b7a17row0_col1\" class=\"data row0 col1\" >84.03</td>\n",
       "            </tr>\n",
       "            <tr>\n",
       "                        <th id=\"T_3d170402_1927_11ea_8a71_10bf481b7a17level0_row1\" class=\"row_heading level0 row1\" >Female</th>\n",
       "                        <td id=\"T_3d170402_1927_11ea_8a71_10bf481b7a17row1_col0\" class=\"data row1 col0\" >81</td>\n",
       "                        <td id=\"T_3d170402_1927_11ea_8a71_10bf481b7a17row1_col1\" class=\"data row1 col1\" >14.06</td>\n",
       "            </tr>\n",
       "            <tr>\n",
       "                        <th id=\"T_3d170402_1927_11ea_8a71_10bf481b7a17level0_row2\" class=\"row_heading level0 row2\" >Other / Non-Disclosed</th>\n",
       "                        <td id=\"T_3d170402_1927_11ea_8a71_10bf481b7a17row2_col0\" class=\"data row2 col0\" >11</td>\n",
       "                        <td id=\"T_3d170402_1927_11ea_8a71_10bf481b7a17row2_col1\" class=\"data row2 col1\" >1.91</td>\n",
       "            </tr>\n",
       "    </tbody></table>"
      ],
      "text/plain": [
       "<pandas.io.formats.style.Styler at 0x197db9ce0f0>"
      ]
     },
     "execution_count": 22,
     "metadata": {},
     "output_type": "execute_result"
    }
   ],
   "source": [
    "gender_demographics.sort_values([\"Total Count\"], ascending = False).style.format({\"Percentage of Players\":\"{:.2f}\"})"
   ]
  },
  {
   "cell_type": "code",
   "execution_count": 23,
   "metadata": {},
   "outputs": [],
   "source": [
    "purchase_count = gender_group[\"Purchase ID\"].count()"
   ]
  },
  {
   "cell_type": "code",
   "execution_count": 24,
   "metadata": {},
   "outputs": [],
   "source": [
    "avg_purchase_price = gender_group[\"Price\"].mean()"
   ]
  },
  {
   "cell_type": "code",
   "execution_count": 25,
   "metadata": {},
   "outputs": [],
   "source": [
    "avg_purchase_total = gender_group[\"Price\"].sum()"
   ]
  },
  {
   "cell_type": "code",
   "execution_count": 33,
   "metadata": {},
   "outputs": [],
   "source": [
    "avg_purchase_per_person = avg_purchase_total/total_gender"
   ]
  },
  {
   "cell_type": "code",
   "execution_count": 38,
   "metadata": {},
   "outputs": [],
   "source": [
    "gender_demographics = pd.DataFrame({\"Purchase Count\": purchase_count, \n",
    "                                    \"Average Purchase Price\": avg_purchase_price,\n",
    "                                    \"Average Purchase Value\":avg_purchase_total,\n",
    "                                    \"Avg Purchase Total per Person\": avg_purchase_per_person})"
   ]
  },
  {
   "cell_type": "code",
   "execution_count": 39,
   "metadata": {},
   "outputs": [],
   "source": [
    "gender_demographics.index.name = \"Gender\""
   ]
  },
  {
   "cell_type": "code",
   "execution_count": 40,
   "metadata": {},
   "outputs": [
    {
     "data": {
      "text/html": [
       "<style  type=\"text/css\" >\n",
       "</style><table id=\"T_2b29aaec_192a_11ea_8e66_10bf481b7a17\" ><thead>    <tr>        <th class=\"blank level0\" ></th>        <th class=\"col_heading level0 col0\" >Purchase Count</th>        <th class=\"col_heading level0 col1\" >Average Purchase Price</th>        <th class=\"col_heading level0 col2\" >Average Purchase Value</th>        <th class=\"col_heading level0 col3\" >Avg Purchase Total per Person</th>    </tr>    <tr>        <th class=\"index_name level0\" >Gender</th>        <th class=\"blank\" ></th>        <th class=\"blank\" ></th>        <th class=\"blank\" ></th>        <th class=\"blank\" ></th>    </tr></thead><tbody>\n",
       "                <tr>\n",
       "                        <th id=\"T_2b29aaec_192a_11ea_8e66_10bf481b7a17level0_row0\" class=\"row_heading level0 row0\" >Female</th>\n",
       "                        <td id=\"T_2b29aaec_192a_11ea_8e66_10bf481b7a17row0_col0\" class=\"data row0 col0\" >113</td>\n",
       "                        <td id=\"T_2b29aaec_192a_11ea_8e66_10bf481b7a17row0_col1\" class=\"data row0 col1\" >$3.20</td>\n",
       "                        <td id=\"T_2b29aaec_192a_11ea_8e66_10bf481b7a17row0_col2\" class=\"data row0 col2\" >$361.94</td>\n",
       "                        <td id=\"T_2b29aaec_192a_11ea_8e66_10bf481b7a17row0_col3\" class=\"data row0 col3\" >$4.47</td>\n",
       "            </tr>\n",
       "            <tr>\n",
       "                        <th id=\"T_2b29aaec_192a_11ea_8e66_10bf481b7a17level0_row1\" class=\"row_heading level0 row1\" >Male</th>\n",
       "                        <td id=\"T_2b29aaec_192a_11ea_8e66_10bf481b7a17row1_col0\" class=\"data row1 col0\" >652</td>\n",
       "                        <td id=\"T_2b29aaec_192a_11ea_8e66_10bf481b7a17row1_col1\" class=\"data row1 col1\" >$3.02</td>\n",
       "                        <td id=\"T_2b29aaec_192a_11ea_8e66_10bf481b7a17row1_col2\" class=\"data row1 col2\" >$1,967.64</td>\n",
       "                        <td id=\"T_2b29aaec_192a_11ea_8e66_10bf481b7a17row1_col3\" class=\"data row1 col3\" >$4.07</td>\n",
       "            </tr>\n",
       "            <tr>\n",
       "                        <th id=\"T_2b29aaec_192a_11ea_8e66_10bf481b7a17level0_row2\" class=\"row_heading level0 row2\" >Other / Non-Disclosed</th>\n",
       "                        <td id=\"T_2b29aaec_192a_11ea_8e66_10bf481b7a17row2_col0\" class=\"data row2 col0\" >15</td>\n",
       "                        <td id=\"T_2b29aaec_192a_11ea_8e66_10bf481b7a17row2_col1\" class=\"data row2 col1\" >$3.35</td>\n",
       "                        <td id=\"T_2b29aaec_192a_11ea_8e66_10bf481b7a17row2_col2\" class=\"data row2 col2\" >$50.19</td>\n",
       "                        <td id=\"T_2b29aaec_192a_11ea_8e66_10bf481b7a17row2_col3\" class=\"data row2 col3\" >$4.56</td>\n",
       "            </tr>\n",
       "    </tbody></table>"
      ],
      "text/plain": [
       "<pandas.io.formats.style.Styler at 0x197dbabcb70>"
      ]
     },
     "execution_count": 40,
     "metadata": {},
     "output_type": "execute_result"
    }
   ],
   "source": [
    "gender_demographics.style.format({\"Average Purchase Value\":\"${:,.2f}\",\n",
    "                                  \"Average Purchase Price\":\"${:,.2f}\",\n",
    "                                  \"Avg Purchase Total per Person\":\"${:,.2f}\"})"
   ]
  },
  {
   "cell_type": "code",
   "execution_count": 42,
   "metadata": {},
   "outputs": [],
   "source": [
    "age_bins = [0, 9.90, 14.90,19.90, 24.90, 29.90, 34.90, 39.90, 99999]\n",
    "age_group = [\"<10\", \"10-14\", \"15-19\", \"20-24\", \"25-29\", \"30-34\", \"35-40\", \"40+\"]"
   ]
  },
  {
   "cell_type": "code",
   "execution_count": 46,
   "metadata": {},
   "outputs": [
    {
     "data": {
      "text/html": [
       "<div>\n",
       "<style scoped>\n",
       "    .dataframe tbody tr th:only-of-type {\n",
       "        vertical-align: middle;\n",
       "    }\n",
       "\n",
       "    .dataframe tbody tr th {\n",
       "        vertical-align: top;\n",
       "    }\n",
       "\n",
       "    .dataframe thead th {\n",
       "        text-align: right;\n",
       "    }\n",
       "</style>\n",
       "<table border=\"1\" class=\"dataframe\">\n",
       "  <thead>\n",
       "    <tr style=\"text-align: right;\">\n",
       "      <th></th>\n",
       "      <th>Purchase ID</th>\n",
       "      <th>SN</th>\n",
       "      <th>Age</th>\n",
       "      <th>Gender</th>\n",
       "      <th>Item ID</th>\n",
       "      <th>Item Name</th>\n",
       "      <th>Price</th>\n",
       "      <th>Age Group</th>\n",
       "    </tr>\n",
       "  </thead>\n",
       "  <tbody>\n",
       "    <tr>\n",
       "      <th>0</th>\n",
       "      <td>0</td>\n",
       "      <td>Lisim78</td>\n",
       "      <td>20</td>\n",
       "      <td>Male</td>\n",
       "      <td>108</td>\n",
       "      <td>Extraction, Quickblade Of Trembling Hands</td>\n",
       "      <td>3.53</td>\n",
       "      <td>20-24</td>\n",
       "    </tr>\n",
       "    <tr>\n",
       "      <th>1</th>\n",
       "      <td>1</td>\n",
       "      <td>Lisovynya38</td>\n",
       "      <td>40</td>\n",
       "      <td>Male</td>\n",
       "      <td>143</td>\n",
       "      <td>Frenzied Scimitar</td>\n",
       "      <td>1.56</td>\n",
       "      <td>40+</td>\n",
       "    </tr>\n",
       "    <tr>\n",
       "      <th>2</th>\n",
       "      <td>2</td>\n",
       "      <td>Ithergue48</td>\n",
       "      <td>24</td>\n",
       "      <td>Male</td>\n",
       "      <td>92</td>\n",
       "      <td>Final Critic</td>\n",
       "      <td>4.88</td>\n",
       "      <td>20-24</td>\n",
       "    </tr>\n",
       "    <tr>\n",
       "      <th>3</th>\n",
       "      <td>3</td>\n",
       "      <td>Chamassasya86</td>\n",
       "      <td>24</td>\n",
       "      <td>Male</td>\n",
       "      <td>100</td>\n",
       "      <td>Blindscythe</td>\n",
       "      <td>3.27</td>\n",
       "      <td>20-24</td>\n",
       "    </tr>\n",
       "    <tr>\n",
       "      <th>4</th>\n",
       "      <td>4</td>\n",
       "      <td>Iskosia90</td>\n",
       "      <td>23</td>\n",
       "      <td>Male</td>\n",
       "      <td>131</td>\n",
       "      <td>Fury</td>\n",
       "      <td>1.44</td>\n",
       "      <td>20-24</td>\n",
       "    </tr>\n",
       "    <tr>\n",
       "      <th>...</th>\n",
       "      <td>...</td>\n",
       "      <td>...</td>\n",
       "      <td>...</td>\n",
       "      <td>...</td>\n",
       "      <td>...</td>\n",
       "      <td>...</td>\n",
       "      <td>...</td>\n",
       "      <td>...</td>\n",
       "    </tr>\n",
       "    <tr>\n",
       "      <th>775</th>\n",
       "      <td>775</td>\n",
       "      <td>Aethedru70</td>\n",
       "      <td>21</td>\n",
       "      <td>Female</td>\n",
       "      <td>60</td>\n",
       "      <td>Wolf</td>\n",
       "      <td>3.54</td>\n",
       "      <td>20-24</td>\n",
       "    </tr>\n",
       "    <tr>\n",
       "      <th>776</th>\n",
       "      <td>776</td>\n",
       "      <td>Iral74</td>\n",
       "      <td>21</td>\n",
       "      <td>Male</td>\n",
       "      <td>164</td>\n",
       "      <td>Exiled Doomblade</td>\n",
       "      <td>1.63</td>\n",
       "      <td>20-24</td>\n",
       "    </tr>\n",
       "    <tr>\n",
       "      <th>777</th>\n",
       "      <td>777</td>\n",
       "      <td>Yathecal72</td>\n",
       "      <td>20</td>\n",
       "      <td>Male</td>\n",
       "      <td>67</td>\n",
       "      <td>Celeste, Incarnation of the Corrupted</td>\n",
       "      <td>3.46</td>\n",
       "      <td>20-24</td>\n",
       "    </tr>\n",
       "    <tr>\n",
       "      <th>778</th>\n",
       "      <td>778</td>\n",
       "      <td>Sisur91</td>\n",
       "      <td>7</td>\n",
       "      <td>Male</td>\n",
       "      <td>101</td>\n",
       "      <td>Final Critic</td>\n",
       "      <td>4.19</td>\n",
       "      <td>&lt;10</td>\n",
       "    </tr>\n",
       "    <tr>\n",
       "      <th>779</th>\n",
       "      <td>779</td>\n",
       "      <td>Ennrian78</td>\n",
       "      <td>24</td>\n",
       "      <td>Male</td>\n",
       "      <td>50</td>\n",
       "      <td>Dawn</td>\n",
       "      <td>4.60</td>\n",
       "      <td>20-24</td>\n",
       "    </tr>\n",
       "  </tbody>\n",
       "</table>\n",
       "<p>780 rows × 8 columns</p>\n",
       "</div>"
      ],
      "text/plain": [
       "     Purchase ID             SN  Age  Gender  Item ID  \\\n",
       "0              0        Lisim78   20    Male      108   \n",
       "1              1    Lisovynya38   40    Male      143   \n",
       "2              2     Ithergue48   24    Male       92   \n",
       "3              3  Chamassasya86   24    Male      100   \n",
       "4              4      Iskosia90   23    Male      131   \n",
       "..           ...            ...  ...     ...      ...   \n",
       "775          775     Aethedru70   21  Female       60   \n",
       "776          776         Iral74   21    Male      164   \n",
       "777          777     Yathecal72   20    Male       67   \n",
       "778          778        Sisur91    7    Male      101   \n",
       "779          779      Ennrian78   24    Male       50   \n",
       "\n",
       "                                     Item Name  Price Age Group  \n",
       "0    Extraction, Quickblade Of Trembling Hands   3.53     20-24  \n",
       "1                            Frenzied Scimitar   1.56       40+  \n",
       "2                                 Final Critic   4.88     20-24  \n",
       "3                                  Blindscythe   3.27     20-24  \n",
       "4                                         Fury   1.44     20-24  \n",
       "..                                         ...    ...       ...  \n",
       "775                                       Wolf   3.54     20-24  \n",
       "776                           Exiled Doomblade   1.63     20-24  \n",
       "777      Celeste, Incarnation of the Corrupted   3.46     20-24  \n",
       "778                               Final Critic   4.19       <10  \n",
       "779                                       Dawn   4.60     20-24  \n",
       "\n",
       "[780 rows x 8 columns]"
      ]
     },
     "execution_count": 46,
     "metadata": {},
     "output_type": "execute_result"
    }
   ],
   "source": [
    "purchase_data_df[\"Age Group\"] = pd.cut(purchase_data_df[\"Age\"], age_bins, labels=age_group)\n",
    "purchase_data_df"
   ]
  },
  {
   "cell_type": "code",
   "execution_count": 47,
   "metadata": {},
   "outputs": [],
   "source": [
    "age_grouped = purchase_data_df.groupby(\"Age Group\")"
   ]
  },
  {
   "cell_type": "code",
   "execution_count": 48,
   "metadata": {},
   "outputs": [],
   "source": [
    "total_count_age = age_grouped[\"SN\"].nunique()"
   ]
  },
  {
   "cell_type": "code",
   "execution_count": 49,
   "metadata": {},
   "outputs": [],
   "source": [
    "age_percentage = (total_count_age/total_players)*100"
   ]
  },
  {
   "cell_type": "code",
   "execution_count": 50,
   "metadata": {},
   "outputs": [],
   "source": [
    "age_demographics = pd.DataFrame({\"Percentage of Players\": age_percentage,\n",
    "                                \"Total Count\": total_count_age})"
   ]
  },
  {
   "cell_type": "code",
   "execution_count": 51,
   "metadata": {},
   "outputs": [],
   "source": [
    "age_demographics.index.name = None"
   ]
  },
  {
   "cell_type": "code",
   "execution_count": 53,
   "metadata": {},
   "outputs": [
    {
     "data": {
      "text/html": [
       "<style  type=\"text/css\" >\n",
       "</style><table id=\"T_d7a5ca28_1932_11ea_9758_10bf481b7a17\" ><thead>    <tr>        <th class=\"blank level0\" ></th>        <th class=\"col_heading level0 col0\" >Percentage of Players</th>        <th class=\"col_heading level0 col1\" >Total Count</th>    </tr></thead><tbody>\n",
       "                <tr>\n",
       "                        <th id=\"T_d7a5ca28_1932_11ea_9758_10bf481b7a17level0_row0\" class=\"row_heading level0 row0\" ><10</th>\n",
       "                        <td id=\"T_d7a5ca28_1932_11ea_9758_10bf481b7a17row0_col0\" class=\"data row0 col0\" >2.95</td>\n",
       "                        <td id=\"T_d7a5ca28_1932_11ea_9758_10bf481b7a17row0_col1\" class=\"data row0 col1\" >17</td>\n",
       "            </tr>\n",
       "            <tr>\n",
       "                        <th id=\"T_d7a5ca28_1932_11ea_9758_10bf481b7a17level0_row1\" class=\"row_heading level0 row1\" >10-14</th>\n",
       "                        <td id=\"T_d7a5ca28_1932_11ea_9758_10bf481b7a17row1_col0\" class=\"data row1 col0\" >3.82</td>\n",
       "                        <td id=\"T_d7a5ca28_1932_11ea_9758_10bf481b7a17row1_col1\" class=\"data row1 col1\" >22</td>\n",
       "            </tr>\n",
       "            <tr>\n",
       "                        <th id=\"T_d7a5ca28_1932_11ea_9758_10bf481b7a17level0_row2\" class=\"row_heading level0 row2\" >15-19</th>\n",
       "                        <td id=\"T_d7a5ca28_1932_11ea_9758_10bf481b7a17row2_col0\" class=\"data row2 col0\" >18.58</td>\n",
       "                        <td id=\"T_d7a5ca28_1932_11ea_9758_10bf481b7a17row2_col1\" class=\"data row2 col1\" >107</td>\n",
       "            </tr>\n",
       "            <tr>\n",
       "                        <th id=\"T_d7a5ca28_1932_11ea_9758_10bf481b7a17level0_row3\" class=\"row_heading level0 row3\" >20-24</th>\n",
       "                        <td id=\"T_d7a5ca28_1932_11ea_9758_10bf481b7a17row3_col0\" class=\"data row3 col0\" >44.79</td>\n",
       "                        <td id=\"T_d7a5ca28_1932_11ea_9758_10bf481b7a17row3_col1\" class=\"data row3 col1\" >258</td>\n",
       "            </tr>\n",
       "            <tr>\n",
       "                        <th id=\"T_d7a5ca28_1932_11ea_9758_10bf481b7a17level0_row4\" class=\"row_heading level0 row4\" >25-29</th>\n",
       "                        <td id=\"T_d7a5ca28_1932_11ea_9758_10bf481b7a17row4_col0\" class=\"data row4 col0\" >13.37</td>\n",
       "                        <td id=\"T_d7a5ca28_1932_11ea_9758_10bf481b7a17row4_col1\" class=\"data row4 col1\" >77</td>\n",
       "            </tr>\n",
       "            <tr>\n",
       "                        <th id=\"T_d7a5ca28_1932_11ea_9758_10bf481b7a17level0_row5\" class=\"row_heading level0 row5\" >30-34</th>\n",
       "                        <td id=\"T_d7a5ca28_1932_11ea_9758_10bf481b7a17row5_col0\" class=\"data row5 col0\" >9.03</td>\n",
       "                        <td id=\"T_d7a5ca28_1932_11ea_9758_10bf481b7a17row5_col1\" class=\"data row5 col1\" >52</td>\n",
       "            </tr>\n",
       "            <tr>\n",
       "                        <th id=\"T_d7a5ca28_1932_11ea_9758_10bf481b7a17level0_row6\" class=\"row_heading level0 row6\" >35-40</th>\n",
       "                        <td id=\"T_d7a5ca28_1932_11ea_9758_10bf481b7a17row6_col0\" class=\"data row6 col0\" >5.38</td>\n",
       "                        <td id=\"T_d7a5ca28_1932_11ea_9758_10bf481b7a17row6_col1\" class=\"data row6 col1\" >31</td>\n",
       "            </tr>\n",
       "            <tr>\n",
       "                        <th id=\"T_d7a5ca28_1932_11ea_9758_10bf481b7a17level0_row7\" class=\"row_heading level0 row7\" >40+</th>\n",
       "                        <td id=\"T_d7a5ca28_1932_11ea_9758_10bf481b7a17row7_col0\" class=\"data row7 col0\" >2.08</td>\n",
       "                        <td id=\"T_d7a5ca28_1932_11ea_9758_10bf481b7a17row7_col1\" class=\"data row7 col1\" >12</td>\n",
       "            </tr>\n",
       "    </tbody></table>"
      ],
      "text/plain": [
       "<pandas.io.formats.style.Styler at 0x197dbad9390>"
      ]
     },
     "execution_count": 53,
     "metadata": {},
     "output_type": "execute_result"
    }
   ],
   "source": [
    "age_demographics.style.format({\"Percentage of Players\":\"{:,.2f}\"})"
   ]
  },
  {
   "cell_type": "code",
   "execution_count": 54,
   "metadata": {},
   "outputs": [],
   "source": [
    "purchase_count_age = age_grouped[\"Purchase ID\"].count()"
   ]
  },
  {
   "cell_type": "code",
   "execution_count": 55,
   "metadata": {},
   "outputs": [],
   "source": [
    "avg_purchase_price_age = age_grouped[\"Price\"].mean()"
   ]
  },
  {
   "cell_type": "code",
   "execution_count": 56,
   "metadata": {},
   "outputs": [],
   "source": [
    "total_purchase_value = age_grouped[\"Price\"].sum()"
   ]
  },
  {
   "cell_type": "code",
   "execution_count": 60,
   "metadata": {},
   "outputs": [],
   "source": [
    "avg_purchase_per_person_age = total_purchase_value/total_count_age"
   ]
  },
  {
   "cell_type": "code",
   "execution_count": 61,
   "metadata": {},
   "outputs": [],
   "source": [
    "age_demographics = pd.DataFrame({\"Purchase Count\": purchase_count_age,\n",
    "                                \"Average Purchase Price\": avg_purchase_price_age,\n",
    "                                \"Total Purchase Value\": total_purchase_value,\n",
    "                                \"Average Purchase Total per Person\": avg_purchase_per_person_age})"
   ]
  },
  {
   "cell_type": "code",
   "execution_count": 62,
   "metadata": {},
   "outputs": [],
   "source": [
    "age_demographics.index.name = None"
   ]
  },
  {
   "cell_type": "code",
   "execution_count": 63,
   "metadata": {},
   "outputs": [
    {
     "data": {
      "text/html": [
       "<style  type=\"text/css\" >\n",
       "</style><table id=\"T_586cf922_1939_11ea_a50d_10bf481b7a17\" ><thead>    <tr>        <th class=\"blank level0\" ></th>        <th class=\"col_heading level0 col0\" >Purchase Count</th>        <th class=\"col_heading level0 col1\" >Average Purchase Price</th>        <th class=\"col_heading level0 col2\" >Total Purchase Value</th>        <th class=\"col_heading level0 col3\" >Average Purchase Total per Person</th>    </tr></thead><tbody>\n",
       "                <tr>\n",
       "                        <th id=\"T_586cf922_1939_11ea_a50d_10bf481b7a17level0_row0\" class=\"row_heading level0 row0\" ><10</th>\n",
       "                        <td id=\"T_586cf922_1939_11ea_a50d_10bf481b7a17row0_col0\" class=\"data row0 col0\" >23</td>\n",
       "                        <td id=\"T_586cf922_1939_11ea_a50d_10bf481b7a17row0_col1\" class=\"data row0 col1\" >$3.35</td>\n",
       "                        <td id=\"T_586cf922_1939_11ea_a50d_10bf481b7a17row0_col2\" class=\"data row0 col2\" >$77.13</td>\n",
       "                        <td id=\"T_586cf922_1939_11ea_a50d_10bf481b7a17row0_col3\" class=\"data row0 col3\" >$4.54</td>\n",
       "            </tr>\n",
       "            <tr>\n",
       "                        <th id=\"T_586cf922_1939_11ea_a50d_10bf481b7a17level0_row1\" class=\"row_heading level0 row1\" >10-14</th>\n",
       "                        <td id=\"T_586cf922_1939_11ea_a50d_10bf481b7a17row1_col0\" class=\"data row1 col0\" >28</td>\n",
       "                        <td id=\"T_586cf922_1939_11ea_a50d_10bf481b7a17row1_col1\" class=\"data row1 col1\" >$2.96</td>\n",
       "                        <td id=\"T_586cf922_1939_11ea_a50d_10bf481b7a17row1_col2\" class=\"data row1 col2\" >$82.78</td>\n",
       "                        <td id=\"T_586cf922_1939_11ea_a50d_10bf481b7a17row1_col3\" class=\"data row1 col3\" >$3.76</td>\n",
       "            </tr>\n",
       "            <tr>\n",
       "                        <th id=\"T_586cf922_1939_11ea_a50d_10bf481b7a17level0_row2\" class=\"row_heading level0 row2\" >15-19</th>\n",
       "                        <td id=\"T_586cf922_1939_11ea_a50d_10bf481b7a17row2_col0\" class=\"data row2 col0\" >136</td>\n",
       "                        <td id=\"T_586cf922_1939_11ea_a50d_10bf481b7a17row2_col1\" class=\"data row2 col1\" >$3.04</td>\n",
       "                        <td id=\"T_586cf922_1939_11ea_a50d_10bf481b7a17row2_col2\" class=\"data row2 col2\" >$412.89</td>\n",
       "                        <td id=\"T_586cf922_1939_11ea_a50d_10bf481b7a17row2_col3\" class=\"data row2 col3\" >$3.86</td>\n",
       "            </tr>\n",
       "            <tr>\n",
       "                        <th id=\"T_586cf922_1939_11ea_a50d_10bf481b7a17level0_row3\" class=\"row_heading level0 row3\" >20-24</th>\n",
       "                        <td id=\"T_586cf922_1939_11ea_a50d_10bf481b7a17row3_col0\" class=\"data row3 col0\" >365</td>\n",
       "                        <td id=\"T_586cf922_1939_11ea_a50d_10bf481b7a17row3_col1\" class=\"data row3 col1\" >$3.05</td>\n",
       "                        <td id=\"T_586cf922_1939_11ea_a50d_10bf481b7a17row3_col2\" class=\"data row3 col2\" >$1,114.06</td>\n",
       "                        <td id=\"T_586cf922_1939_11ea_a50d_10bf481b7a17row3_col3\" class=\"data row3 col3\" >$4.32</td>\n",
       "            </tr>\n",
       "            <tr>\n",
       "                        <th id=\"T_586cf922_1939_11ea_a50d_10bf481b7a17level0_row4\" class=\"row_heading level0 row4\" >25-29</th>\n",
       "                        <td id=\"T_586cf922_1939_11ea_a50d_10bf481b7a17row4_col0\" class=\"data row4 col0\" >101</td>\n",
       "                        <td id=\"T_586cf922_1939_11ea_a50d_10bf481b7a17row4_col1\" class=\"data row4 col1\" >$2.90</td>\n",
       "                        <td id=\"T_586cf922_1939_11ea_a50d_10bf481b7a17row4_col2\" class=\"data row4 col2\" >$293.00</td>\n",
       "                        <td id=\"T_586cf922_1939_11ea_a50d_10bf481b7a17row4_col3\" class=\"data row4 col3\" >$3.81</td>\n",
       "            </tr>\n",
       "            <tr>\n",
       "                        <th id=\"T_586cf922_1939_11ea_a50d_10bf481b7a17level0_row5\" class=\"row_heading level0 row5\" >30-34</th>\n",
       "                        <td id=\"T_586cf922_1939_11ea_a50d_10bf481b7a17row5_col0\" class=\"data row5 col0\" >73</td>\n",
       "                        <td id=\"T_586cf922_1939_11ea_a50d_10bf481b7a17row5_col1\" class=\"data row5 col1\" >$2.93</td>\n",
       "                        <td id=\"T_586cf922_1939_11ea_a50d_10bf481b7a17row5_col2\" class=\"data row5 col2\" >$214.00</td>\n",
       "                        <td id=\"T_586cf922_1939_11ea_a50d_10bf481b7a17row5_col3\" class=\"data row5 col3\" >$4.12</td>\n",
       "            </tr>\n",
       "            <tr>\n",
       "                        <th id=\"T_586cf922_1939_11ea_a50d_10bf481b7a17level0_row6\" class=\"row_heading level0 row6\" >35-40</th>\n",
       "                        <td id=\"T_586cf922_1939_11ea_a50d_10bf481b7a17row6_col0\" class=\"data row6 col0\" >41</td>\n",
       "                        <td id=\"T_586cf922_1939_11ea_a50d_10bf481b7a17row6_col1\" class=\"data row6 col1\" >$3.60</td>\n",
       "                        <td id=\"T_586cf922_1939_11ea_a50d_10bf481b7a17row6_col2\" class=\"data row6 col2\" >$147.67</td>\n",
       "                        <td id=\"T_586cf922_1939_11ea_a50d_10bf481b7a17row6_col3\" class=\"data row6 col3\" >$4.76</td>\n",
       "            </tr>\n",
       "            <tr>\n",
       "                        <th id=\"T_586cf922_1939_11ea_a50d_10bf481b7a17level0_row7\" class=\"row_heading level0 row7\" >40+</th>\n",
       "                        <td id=\"T_586cf922_1939_11ea_a50d_10bf481b7a17row7_col0\" class=\"data row7 col0\" >13</td>\n",
       "                        <td id=\"T_586cf922_1939_11ea_a50d_10bf481b7a17row7_col1\" class=\"data row7 col1\" >$2.94</td>\n",
       "                        <td id=\"T_586cf922_1939_11ea_a50d_10bf481b7a17row7_col2\" class=\"data row7 col2\" >$38.24</td>\n",
       "                        <td id=\"T_586cf922_1939_11ea_a50d_10bf481b7a17row7_col3\" class=\"data row7 col3\" >$3.19</td>\n",
       "            </tr>\n",
       "    </tbody></table>"
      ],
      "text/plain": [
       "<pandas.io.formats.style.Styler at 0x197dbad97f0>"
      ]
     },
     "execution_count": 63,
     "metadata": {},
     "output_type": "execute_result"
    }
   ],
   "source": [
    "age_demographics.style.format({\"Average Purchase Price\":\"${:,.2f}\",\n",
    "                              \"Total Purchase Value\":\"${:,.2f}\",\n",
    "                              \"Average Purchase Total per Person\":\"${:,.2f}\"})"
   ]
  },
  {
   "cell_type": "code",
   "execution_count": 64,
   "metadata": {},
   "outputs": [],
   "source": [
    "spenders = purchase_data_df.groupby(\"SN\")"
   ]
  },
  {
   "cell_type": "code",
   "execution_count": 65,
   "metadata": {},
   "outputs": [],
   "source": [
    "purchase_count_spender = spenders[\"Purchase ID\"].count()"
   ]
  },
  {
   "cell_type": "code",
   "execution_count": 66,
   "metadata": {},
   "outputs": [],
   "source": [
    "avg_purchase_price_spender = spenders[\"Price\"].mean()"
   ]
  },
  {
   "cell_type": "code",
   "execution_count": 69,
   "metadata": {},
   "outputs": [],
   "source": [
    "purchase_total_spender = spenders[\"Price\"].sum()"
   ]
  },
  {
   "cell_type": "code",
   "execution_count": 70,
   "metadata": {},
   "outputs": [],
   "source": [
    "top_spenders = pd.DataFrame({\"Purchase Count\": purchase_count_spender,\n",
    "                             \"Average Purchase Price\": avg_purchase_price_spender,\n",
    "                             \"Total Purchase Value\":purchase_total_spender})"
   ]
  },
  {
   "cell_type": "code",
   "execution_count": 71,
   "metadata": {},
   "outputs": [],
   "source": [
    "spenders_format = top_spenders.sort_values([\"Total Purchase Value\"], ascending=False).head()"
   ]
  },
  {
   "cell_type": "code",
   "execution_count": 72,
   "metadata": {},
   "outputs": [
    {
     "data": {
      "text/html": [
       "<style  type=\"text/css\" >\n",
       "</style><table id=\"T_483b50e2_193d_11ea_83fe_10bf481b7a17\" ><thead>    <tr>        <th class=\"blank level0\" ></th>        <th class=\"col_heading level0 col0\" >Purchase Count</th>        <th class=\"col_heading level0 col1\" >Average Purchase Price</th>        <th class=\"col_heading level0 col2\" >Total Purchase Value</th>    </tr>    <tr>        <th class=\"index_name level0\" >SN</th>        <th class=\"blank\" ></th>        <th class=\"blank\" ></th>        <th class=\"blank\" ></th>    </tr></thead><tbody>\n",
       "                <tr>\n",
       "                        <th id=\"T_483b50e2_193d_11ea_83fe_10bf481b7a17level0_row0\" class=\"row_heading level0 row0\" >Lisosia93</th>\n",
       "                        <td id=\"T_483b50e2_193d_11ea_83fe_10bf481b7a17row0_col0\" class=\"data row0 col0\" >5</td>\n",
       "                        <td id=\"T_483b50e2_193d_11ea_83fe_10bf481b7a17row0_col1\" class=\"data row0 col1\" >$3.79</td>\n",
       "                        <td id=\"T_483b50e2_193d_11ea_83fe_10bf481b7a17row0_col2\" class=\"data row0 col2\" >$18.96</td>\n",
       "            </tr>\n",
       "            <tr>\n",
       "                        <th id=\"T_483b50e2_193d_11ea_83fe_10bf481b7a17level0_row1\" class=\"row_heading level0 row1\" >Idastidru52</th>\n",
       "                        <td id=\"T_483b50e2_193d_11ea_83fe_10bf481b7a17row1_col0\" class=\"data row1 col0\" >4</td>\n",
       "                        <td id=\"T_483b50e2_193d_11ea_83fe_10bf481b7a17row1_col1\" class=\"data row1 col1\" >$3.86</td>\n",
       "                        <td id=\"T_483b50e2_193d_11ea_83fe_10bf481b7a17row1_col2\" class=\"data row1 col2\" >$15.45</td>\n",
       "            </tr>\n",
       "            <tr>\n",
       "                        <th id=\"T_483b50e2_193d_11ea_83fe_10bf481b7a17level0_row2\" class=\"row_heading level0 row2\" >Chamjask73</th>\n",
       "                        <td id=\"T_483b50e2_193d_11ea_83fe_10bf481b7a17row2_col0\" class=\"data row2 col0\" >3</td>\n",
       "                        <td id=\"T_483b50e2_193d_11ea_83fe_10bf481b7a17row2_col1\" class=\"data row2 col1\" >$4.61</td>\n",
       "                        <td id=\"T_483b50e2_193d_11ea_83fe_10bf481b7a17row2_col2\" class=\"data row2 col2\" >$13.83</td>\n",
       "            </tr>\n",
       "            <tr>\n",
       "                        <th id=\"T_483b50e2_193d_11ea_83fe_10bf481b7a17level0_row3\" class=\"row_heading level0 row3\" >Iral74</th>\n",
       "                        <td id=\"T_483b50e2_193d_11ea_83fe_10bf481b7a17row3_col0\" class=\"data row3 col0\" >4</td>\n",
       "                        <td id=\"T_483b50e2_193d_11ea_83fe_10bf481b7a17row3_col1\" class=\"data row3 col1\" >$3.40</td>\n",
       "                        <td id=\"T_483b50e2_193d_11ea_83fe_10bf481b7a17row3_col2\" class=\"data row3 col2\" >$13.62</td>\n",
       "            </tr>\n",
       "            <tr>\n",
       "                        <th id=\"T_483b50e2_193d_11ea_83fe_10bf481b7a17level0_row4\" class=\"row_heading level0 row4\" >Iskadarya95</th>\n",
       "                        <td id=\"T_483b50e2_193d_11ea_83fe_10bf481b7a17row4_col0\" class=\"data row4 col0\" >3</td>\n",
       "                        <td id=\"T_483b50e2_193d_11ea_83fe_10bf481b7a17row4_col1\" class=\"data row4 col1\" >$4.37</td>\n",
       "                        <td id=\"T_483b50e2_193d_11ea_83fe_10bf481b7a17row4_col2\" class=\"data row4 col2\" >$13.10</td>\n",
       "            </tr>\n",
       "    </tbody></table>"
      ],
      "text/plain": [
       "<pandas.io.formats.style.Styler at 0x197dbb06198>"
      ]
     },
     "execution_count": 72,
     "metadata": {},
     "output_type": "execute_result"
    }
   ],
   "source": [
    "spenders_format.style.format({\"Average Purchase Total\":\"${:,.2f}\",\n",
    "                                 \"Average Purchase Price\":\"${:,.2f}\", \n",
    "                                 \"Total Purchase Value\":\"${:,.2f}\"})"
   ]
  },
  {
   "cell_type": "code",
   "execution_count": 74,
   "metadata": {},
   "outputs": [],
   "source": [
    "items = purchase_data_df[[\"Item ID\", \"Item Name\", \"Price\"]]"
   ]
  },
  {
   "cell_type": "code",
   "execution_count": 81,
   "metadata": {},
   "outputs": [],
   "source": [
    "item_info = items.groupby([\"Item ID\",\"Item Name\"])"
   ]
  },
  {
   "cell_type": "code",
   "execution_count": 82,
   "metadata": {},
   "outputs": [],
   "source": [
    "purchase_count_item = item_info[\"Price\"].count()"
   ]
  },
  {
   "cell_type": "code",
   "execution_count": 83,
   "metadata": {},
   "outputs": [],
   "source": [
    "purchase_value = (item_info[\"Price\"].sum())"
   ]
  },
  {
   "cell_type": "code",
   "execution_count": 84,
   "metadata": {},
   "outputs": [],
   "source": [
    "item_price = purchase_value/purchase_count_item"
   ]
  },
  {
   "cell_type": "code",
   "execution_count": 85,
   "metadata": {},
   "outputs": [],
   "source": [
    "most_popular_items = pd.DataFrame({\"Purchase Count\": purchase_count_item, \n",
    "                                   \"Item Price\": item_price,\n",
    "                                   \"Total Purchase Value\":purchase_value})"
   ]
  },
  {
   "cell_type": "code",
   "execution_count": 87,
   "metadata": {},
   "outputs": [],
   "source": [
    "popular_format = most_popular_items.sort_values([\"Purchase Count\"], ascending=False).head()"
   ]
  },
  {
   "cell_type": "code",
   "execution_count": 88,
   "metadata": {},
   "outputs": [
    {
     "data": {
      "text/html": [
       "<style  type=\"text/css\" >\n",
       "</style><table id=\"T_121d3b4a_193f_11ea_af44_10bf481b7a17\" ><thead>    <tr>        <th class=\"blank\" ></th>        <th class=\"blank level0\" ></th>        <th class=\"col_heading level0 col0\" >Purchase Count</th>        <th class=\"col_heading level0 col1\" >Item Price</th>        <th class=\"col_heading level0 col2\" >Total Purchase Value</th>    </tr>    <tr>        <th class=\"index_name level0\" >Item ID</th>        <th class=\"index_name level1\" >Item Name</th>        <th class=\"blank\" ></th>        <th class=\"blank\" ></th>        <th class=\"blank\" ></th>    </tr></thead><tbody>\n",
       "                <tr>\n",
       "                        <th id=\"T_121d3b4a_193f_11ea_af44_10bf481b7a17level0_row0\" class=\"row_heading level0 row0\" >178</th>\n",
       "                        <th id=\"T_121d3b4a_193f_11ea_af44_10bf481b7a17level1_row0\" class=\"row_heading level1 row0\" >Oathbreaker, Last Hope of the Breaking Storm</th>\n",
       "                        <td id=\"T_121d3b4a_193f_11ea_af44_10bf481b7a17row0_col0\" class=\"data row0 col0\" >12</td>\n",
       "                        <td id=\"T_121d3b4a_193f_11ea_af44_10bf481b7a17row0_col1\" class=\"data row0 col1\" >$4.23</td>\n",
       "                        <td id=\"T_121d3b4a_193f_11ea_af44_10bf481b7a17row0_col2\" class=\"data row0 col2\" >$50.76</td>\n",
       "            </tr>\n",
       "            <tr>\n",
       "                        <th id=\"T_121d3b4a_193f_11ea_af44_10bf481b7a17level0_row1\" class=\"row_heading level0 row1\" >145</th>\n",
       "                        <th id=\"T_121d3b4a_193f_11ea_af44_10bf481b7a17level1_row1\" class=\"row_heading level1 row1\" >Fiery Glass Crusader</th>\n",
       "                        <td id=\"T_121d3b4a_193f_11ea_af44_10bf481b7a17row1_col0\" class=\"data row1 col0\" >9</td>\n",
       "                        <td id=\"T_121d3b4a_193f_11ea_af44_10bf481b7a17row1_col1\" class=\"data row1 col1\" >$4.58</td>\n",
       "                        <td id=\"T_121d3b4a_193f_11ea_af44_10bf481b7a17row1_col2\" class=\"data row1 col2\" >$41.22</td>\n",
       "            </tr>\n",
       "            <tr>\n",
       "                        <th id=\"T_121d3b4a_193f_11ea_af44_10bf481b7a17level0_row2\" class=\"row_heading level0 row2\" >108</th>\n",
       "                        <th id=\"T_121d3b4a_193f_11ea_af44_10bf481b7a17level1_row2\" class=\"row_heading level1 row2\" >Extraction, Quickblade Of Trembling Hands</th>\n",
       "                        <td id=\"T_121d3b4a_193f_11ea_af44_10bf481b7a17row2_col0\" class=\"data row2 col0\" >9</td>\n",
       "                        <td id=\"T_121d3b4a_193f_11ea_af44_10bf481b7a17row2_col1\" class=\"data row2 col1\" >$3.53</td>\n",
       "                        <td id=\"T_121d3b4a_193f_11ea_af44_10bf481b7a17row2_col2\" class=\"data row2 col2\" >$31.77</td>\n",
       "            </tr>\n",
       "            <tr>\n",
       "                        <th id=\"T_121d3b4a_193f_11ea_af44_10bf481b7a17level0_row3\" class=\"row_heading level0 row3\" >82</th>\n",
       "                        <th id=\"T_121d3b4a_193f_11ea_af44_10bf481b7a17level1_row3\" class=\"row_heading level1 row3\" >Nirvana</th>\n",
       "                        <td id=\"T_121d3b4a_193f_11ea_af44_10bf481b7a17row3_col0\" class=\"data row3 col0\" >9</td>\n",
       "                        <td id=\"T_121d3b4a_193f_11ea_af44_10bf481b7a17row3_col1\" class=\"data row3 col1\" >$4.90</td>\n",
       "                        <td id=\"T_121d3b4a_193f_11ea_af44_10bf481b7a17row3_col2\" class=\"data row3 col2\" >$44.10</td>\n",
       "            </tr>\n",
       "            <tr>\n",
       "                        <th id=\"T_121d3b4a_193f_11ea_af44_10bf481b7a17level0_row4\" class=\"row_heading level0 row4\" >19</th>\n",
       "                        <th id=\"T_121d3b4a_193f_11ea_af44_10bf481b7a17level1_row4\" class=\"row_heading level1 row4\" >Pursuit, Cudgel of Necromancy</th>\n",
       "                        <td id=\"T_121d3b4a_193f_11ea_af44_10bf481b7a17row4_col0\" class=\"data row4 col0\" >8</td>\n",
       "                        <td id=\"T_121d3b4a_193f_11ea_af44_10bf481b7a17row4_col1\" class=\"data row4 col1\" >$1.02</td>\n",
       "                        <td id=\"T_121d3b4a_193f_11ea_af44_10bf481b7a17row4_col2\" class=\"data row4 col2\" >$8.16</td>\n",
       "            </tr>\n",
       "    </tbody></table>"
      ],
      "text/plain": [
       "<pandas.io.formats.style.Styler at 0x197dbb12a90>"
      ]
     },
     "execution_count": 88,
     "metadata": {},
     "output_type": "execute_result"
    }
   ],
   "source": [
    "popular_format.style.format({\"Item Price\":\"${:,.2f}\",\n",
    "                                \"Total Purchase Value\":\"${:,.2f}\"})"
   ]
  },
  {
   "cell_type": "code",
   "execution_count": 90,
   "metadata": {},
   "outputs": [],
   "source": [
    "popular_format = most_popular_items.sort_values([\"Total Purchase Value\"],\n",
    "                                                   ascending=False).head()"
   ]
  },
  {
   "cell_type": "code",
   "execution_count": 91,
   "metadata": {},
   "outputs": [
    {
     "data": {
      "text/html": [
       "<style  type=\"text/css\" >\n",
       "</style><table id=\"T_2d9db42e_193f_11ea_9840_10bf481b7a17\" ><thead>    <tr>        <th class=\"blank\" ></th>        <th class=\"blank level0\" ></th>        <th class=\"col_heading level0 col0\" >Purchase Count</th>        <th class=\"col_heading level0 col1\" >Item Price</th>        <th class=\"col_heading level0 col2\" >Total Purchase Value</th>    </tr>    <tr>        <th class=\"index_name level0\" >Item ID</th>        <th class=\"index_name level1\" >Item Name</th>        <th class=\"blank\" ></th>        <th class=\"blank\" ></th>        <th class=\"blank\" ></th>    </tr></thead><tbody>\n",
       "                <tr>\n",
       "                        <th id=\"T_2d9db42e_193f_11ea_9840_10bf481b7a17level0_row0\" class=\"row_heading level0 row0\" >178</th>\n",
       "                        <th id=\"T_2d9db42e_193f_11ea_9840_10bf481b7a17level1_row0\" class=\"row_heading level1 row0\" >Oathbreaker, Last Hope of the Breaking Storm</th>\n",
       "                        <td id=\"T_2d9db42e_193f_11ea_9840_10bf481b7a17row0_col0\" class=\"data row0 col0\" >12</td>\n",
       "                        <td id=\"T_2d9db42e_193f_11ea_9840_10bf481b7a17row0_col1\" class=\"data row0 col1\" >$4.23</td>\n",
       "                        <td id=\"T_2d9db42e_193f_11ea_9840_10bf481b7a17row0_col2\" class=\"data row0 col2\" >$50.76</td>\n",
       "            </tr>\n",
       "            <tr>\n",
       "                        <th id=\"T_2d9db42e_193f_11ea_9840_10bf481b7a17level0_row1\" class=\"row_heading level0 row1\" >82</th>\n",
       "                        <th id=\"T_2d9db42e_193f_11ea_9840_10bf481b7a17level1_row1\" class=\"row_heading level1 row1\" >Nirvana</th>\n",
       "                        <td id=\"T_2d9db42e_193f_11ea_9840_10bf481b7a17row1_col0\" class=\"data row1 col0\" >9</td>\n",
       "                        <td id=\"T_2d9db42e_193f_11ea_9840_10bf481b7a17row1_col1\" class=\"data row1 col1\" >$4.90</td>\n",
       "                        <td id=\"T_2d9db42e_193f_11ea_9840_10bf481b7a17row1_col2\" class=\"data row1 col2\" >$44.10</td>\n",
       "            </tr>\n",
       "            <tr>\n",
       "                        <th id=\"T_2d9db42e_193f_11ea_9840_10bf481b7a17level0_row2\" class=\"row_heading level0 row2\" >145</th>\n",
       "                        <th id=\"T_2d9db42e_193f_11ea_9840_10bf481b7a17level1_row2\" class=\"row_heading level1 row2\" >Fiery Glass Crusader</th>\n",
       "                        <td id=\"T_2d9db42e_193f_11ea_9840_10bf481b7a17row2_col0\" class=\"data row2 col0\" >9</td>\n",
       "                        <td id=\"T_2d9db42e_193f_11ea_9840_10bf481b7a17row2_col1\" class=\"data row2 col1\" >$4.58</td>\n",
       "                        <td id=\"T_2d9db42e_193f_11ea_9840_10bf481b7a17row2_col2\" class=\"data row2 col2\" >$41.22</td>\n",
       "            </tr>\n",
       "            <tr>\n",
       "                        <th id=\"T_2d9db42e_193f_11ea_9840_10bf481b7a17level0_row3\" class=\"row_heading level0 row3\" >92</th>\n",
       "                        <th id=\"T_2d9db42e_193f_11ea_9840_10bf481b7a17level1_row3\" class=\"row_heading level1 row3\" >Final Critic</th>\n",
       "                        <td id=\"T_2d9db42e_193f_11ea_9840_10bf481b7a17row3_col0\" class=\"data row3 col0\" >8</td>\n",
       "                        <td id=\"T_2d9db42e_193f_11ea_9840_10bf481b7a17row3_col1\" class=\"data row3 col1\" >$4.88</td>\n",
       "                        <td id=\"T_2d9db42e_193f_11ea_9840_10bf481b7a17row3_col2\" class=\"data row3 col2\" >$39.04</td>\n",
       "            </tr>\n",
       "            <tr>\n",
       "                        <th id=\"T_2d9db42e_193f_11ea_9840_10bf481b7a17level0_row4\" class=\"row_heading level0 row4\" >103</th>\n",
       "                        <th id=\"T_2d9db42e_193f_11ea_9840_10bf481b7a17level1_row4\" class=\"row_heading level1 row4\" >Singed Scalpel</th>\n",
       "                        <td id=\"T_2d9db42e_193f_11ea_9840_10bf481b7a17row4_col0\" class=\"data row4 col0\" >8</td>\n",
       "                        <td id=\"T_2d9db42e_193f_11ea_9840_10bf481b7a17row4_col1\" class=\"data row4 col1\" >$4.35</td>\n",
       "                        <td id=\"T_2d9db42e_193f_11ea_9840_10bf481b7a17row4_col2\" class=\"data row4 col2\" >$34.80</td>\n",
       "            </tr>\n",
       "    </tbody></table>"
      ],
      "text/plain": [
       "<pandas.io.formats.style.Styler at 0x197dbb21358>"
      ]
     },
     "execution_count": 91,
     "metadata": {},
     "output_type": "execute_result"
    }
   ],
   "source": [
    "popular_format.style.format({\"Item Price\":\"${:,.2f}\",\n",
    "                                \"Total Purchase Value\":\"${:,.2f}\"})"
   ]
  },
  {
   "cell_type": "code",
   "execution_count": null,
   "metadata": {},
   "outputs": [],
   "source": []
  }
 ],
 "metadata": {
  "kernelspec": {
   "display_name": "Python 3",
   "language": "python",
   "name": "python3"
  },
  "language_info": {
   "codemirror_mode": {
    "name": "ipython",
    "version": 3
   },
   "file_extension": ".py",
   "mimetype": "text/x-python",
   "name": "python",
   "nbconvert_exporter": "python",
   "pygments_lexer": "ipython3",
   "version": "3.6.9"
  }
 },
 "nbformat": 4,
 "nbformat_minor": 2
}
